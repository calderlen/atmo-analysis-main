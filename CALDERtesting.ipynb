{
 "cells": [
  {
   "cell_type": "code",
   "execution_count": null,
   "metadata": {},
   "outputs": [],
   "source": [
    "#import packages\n",
    "import numpy as np\n",
    "import matplotlib.pyplot as pl\n",
    "from glob import glob\n",
    "from astropy.io import fits\n",
    "\n",
    "from scipy.stats import chisquare\n",
    "\n",
    "from astropy.time import Time\n",
    "from astropy.coordinates import SkyCoord, EarthLocation\n",
    "import astropy.units as u\n",
    "from astropy.table import Table\n",
    "\n",
    "from uncertainties import ufloat\n",
    "from uncertainties import unumpy as unp\n",
    "\n",
    "from atmo_utilities import ccf, one_log_likelihood, log_likelihood_CCF, vacuum2air, log_likelihood_opt_beta\n",
    "\n",
    "import time\n",
    "\n",
    "from dtutils import psarr\n",
    "\n",
    "from radiant import generate_atmospheric_model, get_wavelength_range\n",
    "\n",
    "from create_model import create_model, instantiate_radtrans\n",
    "import horus\n"
   ]
  },
  {
   "cell_type": "markdown",
   "metadata": {},
   "source": [
    "todo list\n",
    "    - update HORUS fit for Doppler Shadow Removal\n",
    "    - Check 1D slice of CCF plot - we can fit a gaussian curve or another curve to find parameters and also find how they vary over time.\n",
    "      this could be very good\n",
    "\n",
    "        - wind speed\n",
    "        - rotational line broadening\n",
    "        - variation in center over time\n",
    "    - check remaining species (mostly done!)\n",
    "        - discrepancies between marshalls and your results may have to do with the previous vacuum2air conversion error (TiO)\n",
    "    - scrutinize detections for winds"
   ]
  }
 ],
 "metadata": {
  "language_info": {
   "name": "python"
  },
  "orig_nbformat": 4
 },
 "nbformat": 4,
 "nbformat_minor": 2
}
