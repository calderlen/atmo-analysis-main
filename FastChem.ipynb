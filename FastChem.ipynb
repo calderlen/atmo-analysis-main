{
 "cells": [
  {
   "cell_type": "code",
   "execution_count": 16,
   "id": "87aef267",
   "metadata": {},
   "outputs": [],
   "source": [
    "import numpy as np\n",
    "import pyfastchem \n",
    "\n",
    "import pyfastchem\n",
    "import numpy as np\n",
    "import os\n",
    "import matplotlib.pyplot as plt\n",
    "from astropy import constants as const\n",
    "\n",
    "\n",
    "#Do the chemistry calculations\n",
    "#this loads the temperatures and pressures produced by petitRADTRANS, you may need to modify these lines if you store these data products somewhere else\n",
    "temperatures = np.load('data_products/radtrans_temperature.npy')\n",
    "pressures = np.load('data_products/radtrans_pressure.npy')"
   ]
  },
  {
   "cell_type": "code",
   "execution_count": 17,
   "id": "334e9272",
   "metadata": {},
   "outputs": [
    {
     "name": "stdout",
     "output_type": "stream",
     "text": [
      "\n",
      "FastChem initialisation summary:\n",
      "  number of species: 575    elements: 80    molecules: 495    condensates: 0\n",
      "\n"
     ]
    }
   ],
   "source": [
    "fastchem = pyfastchem.FastChem('/home/calder/Documents/FastChem/input/element_abundances/asplund_2020_extended.dat', \n",
    "                               '/home/calder/Documents/FastChem/input/logK/logK.dat', \n",
    "                               1)"
   ]
  },
  {
   "cell_type": "markdown",
   "id": "f32bf6be",
   "metadata": {},
   "source": []
  },
  {
   "cell_type": "code",
   "execution_count": 18,
   "id": "231258e1",
   "metadata": {},
   "outputs": [],
   "source": [
    "input_data = pyfastchem.FastChemInput()\n",
    "output_data = pyfastchem.FastChemOutput()"
   ]
  },
  {
   "cell_type": "code",
   "execution_count": 19,
   "id": "7bca4724",
   "metadata": {},
   "outputs": [],
   "source": [
    "input_data.temperature = temperatures\n",
    "input_data.pressure = pressures"
   ]
  },
  {
   "cell_type": "code",
   "execution_count": 20,
   "id": "161a46e6",
   "metadata": {},
   "outputs": [
    {
     "name": "stdout",
     "output_type": "stream",
     "text": [
      "FastChem reports: convergence ok\n"
     ]
    }
   ],
   "source": [
    "fastchem_flag = fastchem.calcDensities(input_data, output_data)\n",
    "print(\"FastChem reports:\", pyfastchem.FASTCHEM_MSG[fastchem_flag])"
   ]
  },
  {
   "cell_type": "code",
   "execution_count": 21,
   "id": "b1a66fdb",
   "metadata": {},
   "outputs": [],
   "source": [
    "number_densities = np.array(output_data.number_densities)\n",
    "gas_number_density = pressures*1e6 / (const.k_B.cgs * temperatures)"
   ]
  },
  {
   "cell_type": "code",
   "execution_count": 22,
   "id": "c39bf185",
   "metadata": {},
   "outputs": [
    {
     "data": {
      "text/plain": [
       "array([[4.28550853e+07, 6.86026457e-02, 3.69056590e+04, ...,\n",
       "        1.95432449e-17, 5.58015721e+02, 2.86384766e-14],\n",
       "       [4.84049050e+07, 9.78044933e-02, 4.65826727e+04, ...,\n",
       "        3.14704330e-17, 7.04225185e+02, 4.61099736e-14],\n",
       "       [5.46914644e+07, 1.39478831e-01, 5.87953306e+04, ...,\n",
       "        5.07088513e-17, 8.88701377e+02, 7.42859851e-14],\n",
       "       ...,\n",
       "       [1.84090386e+11, 5.01392320e+13, 9.76747962e+14, ...,\n",
       "        8.61888279e+03, 1.92518021e-02, 1.64947145e+04],\n",
       "       [2.04607654e+11, 5.36449172e+13, 1.23222241e+15, ...,\n",
       "        1.12634033e+04, 2.22738442e-02, 2.31099119e+04],\n",
       "       [2.27304678e+11, 5.74075335e+13, 1.55439476e+15, ...,\n",
       "        1.46857330e+04, 2.59086572e-02, 3.23536913e+04]])"
      ]
     },
     "execution_count": 22,
     "metadata": {},
     "output_type": "execute_result"
    }
   ],
   "source": [
    "number_densities"
   ]
  },
  {
   "cell_type": "markdown",
   "id": "58de9275",
   "metadata": {},
   "source": []
  },
  {
   "cell_type": "code",
   "execution_count": 23,
   "id": "1a992578",
   "metadata": {},
   "outputs": [],
   "source": [
    "#change the below lines to select which species you want to calculate the volume mixing ratios for\n",
    "# abundance_species_labels = ['CO', 'H2O', 'VO', 'OH', 'CO2', 'CH4', 'C2H2', 'NH3', 'HCN', 'Fe', 'Fe+', 'Cr', 'Si']\n",
    "# abundance_species = ['C1O1', 'H2O1', 'O1V1', 'H1O1', 'C1O2', 'C1H4', 'C2H2', 'H3N1', 'C1H1N1_1', 'Fe', 'Fe1+', 'Cr', 'Si']"
   ]
  },
  {
   "cell_type": "code",
   "execution_count": 24,
   "id": "753734e9",
   "metadata": {},
   "outputs": [],
   "source": [
    "abundance_species = ['Al', 'B', 'Ba', 'Be', 'Ca', 'Co', 'Cr', 'Cs', 'Cu', 'Fe', 'Ga', 'Ge', 'Hf', 'In', 'Ir', 'K', 'Li', 'Mg', 'Mn', 'Mo', 'N', 'Na', 'Nb', 'Ni', 'O', 'Os', 'Pb', 'Pd', 'Rb', 'Rh', 'Ru', 'Sc', 'Si', 'Sn', 'Sr', 'Ti', 'Tl', 'V', 'W', 'Y', 'Zn', 'Zr']\n",
    "abundance_species_labels = ['Al', 'B', 'Ba', 'Be', 'Ca', 'Co', 'Cr', 'Cs', 'Cu', 'Fe', 'Ga', 'Ge', 'Hf', 'In', 'Ir', 'K', 'Li', 'Mg', 'Mn', 'Mo', 'N', 'Na', 'Nb', 'Ni', 'O', 'Os', 'Pb', 'Pd', 'Rb', 'Rh', 'Ru', 'Sc', 'Si', 'Sn', 'Sr', 'Ti', 'Tl', 'V', 'W', 'Y', 'Zn', 'Zr']\n"
   ]
  },
  {
   "cell_type": "code",
   "execution_count": 25,
   "id": "292be3f7",
   "metadata": {},
   "outputs": [],
   "source": [
    "#set the quench pressure to 1 bar\n",
    "quench = np.argmin(np.abs(pressures-1e1))"
   ]
  },
  {
   "cell_type": "code",
   "execution_count": 26,
   "id": "6908a9fa",
   "metadata": {},
   "outputs": [],
   "source": [
    "a_index = []\n",
    "abundance_species_indices, abundance_species_masses_ordered = [], []\n",
    "n_species = fastchem.getElementNumber()"
   ]
  },
  {
   "cell_type": "code",
   "execution_count": 27,
   "id": "131678bb",
   "metadata": {},
   "outputs": [
    {
     "name": "stdout",
     "output_type": "stream",
     "text": [
      "The VMR for  Al  is  6.284450120736337e-07 erg / K\n",
      "The VMR for  B  is  8.601920308199416e-10 erg / K\n",
      "The VMR for  Ba  is  3.195916432382493e-10 erg / K\n",
      "The VMR for  Be  is  4.117137911265462e-11 erg / K\n",
      "The VMR for  Ca  is  2.4587155473819153e-06 erg / K\n",
      "The VMR for  Co  is  1.4948340961688448e-07 erg / K\n",
      "The VMR for  Cr  is  7.079592959038503e-07 erg / K\n",
      "The VMR for  Cs  is  2.0634569602091076e-11 erg / K\n",
      "The VMR for  Cu  is  2.063093447370899e-08 erg / K\n",
      "The VMR for  Fe  is  4.946571802411902e-05 erg / K\n",
      "The VMR for  Ga  is  1.7971958817835836e-09 erg / K\n",
      "The VMR for  Ge  is  7.154765674272624e-09 erg / K\n",
      "The VMR for  Hf  is  1.2150535391184618e-11 erg / K\n",
      "The VMR for  In  is  1.0829176066220596e-11 erg / K\n",
      "The VMR for  Ir  is  3.585877215540056e-11 erg / K\n",
      "The VMR for  K  is  1.9642279376167866e-07 erg / K\n",
      "The VMR for  Li  is  1.565292177052519e-11 erg / K\n",
      "The VMR for  Mg  is  6.081422083824978e-05 erg / K\n",
      "The VMR for  Mn  is  2.3059703152266368e-07 erg / K\n",
      "The VMR for  Mo  is  1.301953324062707e-10 erg / K\n",
      "The VMR for  N  is  6.153003923345118e-13 erg / K\n",
      "The VMR for  Na  is  2.8215497643996917e-06 erg / K\n",
      "The VMR for  Nb  is  5.065186197357635e-11 erg / K\n",
      "The VMR for  Ni  is  2.568167989682126e-06 erg / K\n",
      "The VMR for  O  is  1.8145305112238282e-12 erg / K\n",
      "The VMR for  Os  is  3.8423366626628385e-11 erg / K\n",
      "The VMR for  Pb  is  1.5296617770866685e-10 erg / K\n",
      "The VMR for  Pd  is  6.376691619322586e-11 erg / K\n",
      "The VMR for  Rb  is  3.5858772155400563e-10 erg / K\n",
      "The VMR for  Rh  is  1.0341782855961415e-11 erg / K\n",
      "The VMR for  Ru  is  9.651513328234593e-11 erg / K\n",
      "The VMR for  Sc  is  2.369165581667039e-09 erg / K\n",
      "The VMR for  Si  is  1.9784001872259786e-09 erg / K\n",
      "The VMR for  Sn  is  1.7971958817835839e-10 erg / K\n",
      "The VMR for  Sr  is  1.1603671214772389e-09 erg / K\n",
      "The VMR for  Ti  is  5.6280315001592464e-09 erg / K\n",
      "The VMR for  Tl  is  1.4275634322309038e-11 erg / K\n",
      "The VMR for  V  is  5.632160208295746e-09 erg / K\n",
      "The VMR for  W  is  1.0582673924194556e-11 erg / K\n",
      "The VMR for  Y  is  2.7835268491474936e-10 erg / K\n",
      "The VMR for  Zn  is  6.23154039405557e-08 erg / K\n",
      "The VMR for  Zr  is  6.677215836709593e-10 erg / K\n"
     ]
    }
   ],
   "source": [
    "for i, species in enumerate(abundance_species):\n",
    "    index = fastchem.getGasSpeciesIndex(species)\n",
    "    if index != pyfastchem.FASTCHEM_UNKNOWN_SPECIES:\n",
    "        abundance_species_indices.append(index) \n",
    "        #abundance_species_masses_ordered.append(fastchem.getSpeciesMolecularWeight(index))\n",
    "        this_species = number_densities[quench, index]/gas_number_density[quench]\n",
    "        print(\"The VMR for \",species,' is ', this_species)\n",
    "    else:\n",
    "        print(\"Species\", species, \"to plot not found in FastChem\")"
   ]
  },
  {
   "cell_type": "code",
   "execution_count": 28,
   "id": "e0235737",
   "metadata": {},
   "outputs": [
    {
     "name": "stdout",
     "output_type": "stream",
     "text": [
      "Help on method getGasSpeciesIndex in module pyfastchem:\n",
      "\n",
      "getGasSpeciesIndex(...) method of pyfastchem.FastChem instance\n",
      "    getGasSpeciesIndex(self: pyfastchem.FastChem, arg0: str) -> int\n",
      "\n"
     ]
    }
   ],
   "source": [
    "help(fastchem.getGasSpeciesIndex)"
   ]
  },
  {
   "cell_type": "code",
   "execution_count": 29,
   "id": "d86988de",
   "metadata": {},
   "outputs": [
    {
     "data": {
      "image/png": "[encoded data removed]",
      "text/plain": [
       "<Figure size 640x480 with 1 Axes>"
      ]
     },
     "metadata": {},
     "output_type": "display_data"
    }
   ],
   "source": [
    "plot_species = ['Fe', 'Fe+', 'Na', 'Ni', 'Ca', 'Co', 'V I']\n",
    "#for the plot labels, we therefore use separate strings in the usual notation\n",
    "plot_species_labels = ['Fe I', 'Fe II', 'Na I', 'Ni I', 'Ca I', 'Co I', 'V I']\n",
    "plot_species_cond = ['Fe(s,l)', 'Fe+(s,l)', 'Na(s,l)', 'Ni(s,l)', 'Ca(s,l)', 'Co(s,l)']\n",
    "\n",
    "\n",
    "plt.plot(number_densities[:, index]/gas_number_density[:],pressures)\n",
    "plt.xscale('log')\n",
    "plt.yscale('log')"
   ]
  },
  {
   "cell_type": "code",
   "execution_count": null,
   "id": "f83ac3ef",
   "metadata": {},
   "outputs": [],
   "source": []
  },
  {
   "cell_type": "code",
   "execution_count": null,
   "id": "de9ffcdf",
   "metadata": {},
   "outputs": [],
   "source": []
  },
  {
   "cell_type": "code",
   "execution_count": null,
   "id": "ec393e2c",
   "metadata": {},
   "outputs": [],
   "source": []
  }
 ],
 "metadata": {
  "kernelspec": {
   "display_name": "Python 3 (ipykernel)",
   "language": "python",
   "name": "python3"
  },
  "language_info": {
   "codemirror_mode": {
    "name": "ipython",
    "version": 3
   },
   "file_extension": ".py",
   "mimetype": "text/x-python",
   "name": "python",
   "nbconvert_exporter": "python",
   "pygments_lexer": "ipython3",
   "version": "3.11.4"
  }
 },
 "nbformat": 4,
 "nbformat_minor": 5
}
