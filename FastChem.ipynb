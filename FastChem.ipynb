{
 "cells": [
  {
   "cell_type": "code",
   "execution_count": 3,
   "id": "87aef267",
   "metadata": {},
   "outputs": [],
   "source": [
    "import numpy as np\n",
    "import pyfastchem \n",
    "\n",
    "import pyfastchem\n",
    "import numpy as np\n",
    "import os\n",
    "import matplotlib.pyplot as plt\n",
    "from astropy import constants as const\n",
    "\n",
    "\n",
    "#Do the chemistry calculations\n",
    "#this loads the temperatures and pressures produced by petitRADTRANS, you may need to modify these lines if you store these data products somewhere else\n",
    "temperatures = np.load('data_products/radtrans_temperature.npy')\n",
    "pressures = np.load('data_products/radtrans_pressure.npy')"
   ]
  },
  {
   "cell_type": "code",
   "execution_count": 4,
   "id": "334e9272",
   "metadata": {},
   "outputs": [
    {
     "name": "stdout",
     "output_type": "stream",
     "text": [
      "\n",
      "FastChem initialisation summary:\n",
      "  number of species: 523    elements: 28    molecules: 495    condensates: 0\n",
      "\n"
     ]
    }
   ],
   "source": [
    "fastchem = pyfastchem.FastChem('/home/calder/Documents/FastChem-master/input/element_abundances_solar.dat', '/home/calder/Documents/FastChem-master/input/logK.dat', 1)"
   ]
  },
  {
   "cell_type": "markdown",
   "id": "f32bf6be",
   "metadata": {},
   "source": []
  },
  {
   "cell_type": "code",
   "execution_count": 5,
   "id": "231258e1",
   "metadata": {},
   "outputs": [],
   "source": [
    "input_data = pyfastchem.FastChemInput()\n",
    "output_data = pyfastchem.FastChemOutput()"
   ]
  },
  {
   "cell_type": "code",
   "execution_count": 6,
   "id": "7bca4724",
   "metadata": {},
   "outputs": [],
   "source": [
    "input_data.temperature = temperatures\n",
    "input_data.pressure = pressures"
   ]
  },
  {
   "cell_type": "code",
   "execution_count": 7,
   "id": "161a46e6",
   "metadata": {},
   "outputs": [
    {
     "name": "stdout",
     "output_type": "stream",
     "text": [
      "FastChem reports: convergence ok\n"
     ]
    }
   ],
   "source": [
    "fastchem_flag = fastchem.calcDensities(input_data, output_data)\n",
    "print(\"FastChem reports:\", pyfastchem.FASTCHEM_MSG[fastchem_flag])"
   ]
  },
  {
   "cell_type": "code",
   "execution_count": 8,
   "id": "b1a66fdb",
   "metadata": {},
   "outputs": [],
   "source": [
    "number_densities = np.array(output_data.number_densities)\n",
    "gas_number_density = pressures*1e6 / (const.k_B.cgs * temperatures)"
   ]
  },
  {
   "cell_type": "code",
   "execution_count": 9,
   "id": "c39bf185",
   "metadata": {},
   "outputs": [
    {
     "data": {
      "text/plain": [
       "array([[4.27564170e+07, 7.14703867e-02, 3.85371159e+04, ...,\n",
       "        2.07864767e-17, 5.56459892e+02, 2.84272746e-14],\n",
       "       [4.82939390e+07, 1.01893883e-01, 4.86418827e+04, ...,\n",
       "        3.34730494e-17, 7.02261473e+02, 4.57708183e-14],\n",
       "       [5.45676866e+07, 1.45314873e-01, 6.13943708e+04, ...,\n",
       "        5.39388312e-17, 8.86223008e+02, 7.37438881e-14],\n",
       "       ...,\n",
       "       [1.75450983e+11, 5.02979214e+13, 1.01744382e+15, ...,\n",
       "        8.49282133e+03, 2.00943768e-02, 1.56385865e+04],\n",
       "       [1.94903243e+11, 5.40921511e+13, 1.28355561e+15, ...,\n",
       "        1.11539635e+04, 2.32607354e-02, 2.18988445e+04],\n",
       "       [2.16398894e+11, 5.81534008e+13, 1.61914073e+15, ...,\n",
       "        1.46075624e+04, 2.70720662e-02, 3.06403619e+04]])"
      ]
     },
     "execution_count": 9,
     "metadata": {},
     "output_type": "execute_result"
    }
   ],
   "source": [
    "number_densities"
   ]
  },
  {
   "cell_type": "code",
   "execution_count": 50,
   "id": "1a992578",
   "metadata": {},
   "outputs": [],
   "source": [
    "#change the below lines to select which species you want to calculate the volume mixing ratios for\n",
    "# abundance_species_labels = ['CO', 'H2O', 'VO', 'OH', 'CO2', 'CH4', 'C2H2', 'NH3', 'HCN', 'Fe', 'Fe+', 'Cr', 'Si']\n",
    "# abundance_species = ['C1O1', 'H2O1', 'O1V1', 'H1O1', 'C1O2', 'C1H4', 'C2H2', 'H3N1', 'C1H1N1_1', 'Fe', 'Fe1+', 'Cr', 'Si']"
   ]
  },
  {
   "cell_type": "code",
   "execution_count": 80,
   "id": "753734e9",
   "metadata": {},
   "outputs": [],
   "source": [
    "abundance_species_labels = ['H']\n",
    "abundance_species = ['H']"
   ]
  },
  {
   "cell_type": "code",
   "execution_count": 81,
   "id": "292be3f7",
   "metadata": {},
   "outputs": [],
   "source": [
    "#set the quench pressure to 1 bar\n",
    "quench = np.argmin(np.abs(pressures-1e1))"
   ]
  },
  {
   "cell_type": "code",
   "execution_count": 82,
   "id": "6908a9fa",
   "metadata": {},
   "outputs": [],
   "source": [
    "a_index = []\n",
    "abundance_species_indices, abundance_species_masses_ordered = [], []\n",
    "n_species = fastchem.getElementNumber()"
   ]
  },
  {
   "cell_type": "code",
   "execution_count": 83,
   "id": "131678bb",
   "metadata": {},
   "outputs": [
    {
     "name": "stdout",
     "output_type": "stream",
     "text": [
      "The VMR for  H  is  0.0002645604518720702 erg / K\n"
     ]
    }
   ],
   "source": [
    "for i, species in enumerate(abundance_species):\n",
    "        index = fastchem.getGasSpeciesIndex(species)\n",
    "if index != pyfastchem.FASTCHEM_UNKNOWN_SPECIES:\n",
    "    abundance_species_indices.append(index)\n",
    "    #abundance_species_masses_ordered.append(fastchem.getSpeciesMolecularWeight(index))\n",
    "    this_species = number_densities[quench, index]/gas_number_density[quench]\n",
    "    print(\"The VMR for \",species,' is ', this_species)\n",
    "else:\n",
    "    print(\"Species\", species, \"to plot not found in FastChem\")"
   ]
  },
  {
   "cell_type": "code",
   "execution_count": 55,
   "id": "e0235737",
   "metadata": {},
   "outputs": [
    {
     "name": "stdout",
     "output_type": "stream",
     "text": [
      "Help on method getGasSpeciesIndex in module pyfastchem:\n",
      "\n",
      "getGasSpeciesIndex(...) method of pyfastchem.FastChem instance\n",
      "    getGasSpeciesIndex(self: pyfastchem.FastChem, arg0: str) -> int\n",
      "\n"
     ]
    }
   ],
   "source": [
    "help(fastchem.getGasSpeciesIndex)"
   ]
  },
  {
   "cell_type": "code",
   "execution_count": 35,
   "id": "d86988de",
   "metadata": {},
   "outputs": [
    {
     "ename": "IndexError",
     "evalue": "index 9999999 is out of bounds for axis 1 with size 523",
     "output_type": "error",
     "traceback": [
      "\u001b[0;31m---------------------------------------------------------------------------\u001b[0m",
      "\u001b[0;31mIndexError\u001b[0m                                Traceback (most recent call last)",
      "Cell \u001b[0;32mIn[35], line 1\u001b[0m\n\u001b[0;32m----> 1\u001b[0m plt\u001b[38;5;241m.\u001b[39mplot(\u001b[43mnumber_densities\u001b[49m\u001b[43m[\u001b[49m\u001b[43m:\u001b[49m\u001b[43m,\u001b[49m\u001b[43m \u001b[49m\u001b[43mindex\u001b[49m\u001b[43m]\u001b[49m\u001b[38;5;241m/\u001b[39mgas_number_density[:],pressures)\n\u001b[1;32m      2\u001b[0m plt\u001b[38;5;241m.\u001b[39mxscale(\u001b[38;5;124m'\u001b[39m\u001b[38;5;124mlog\u001b[39m\u001b[38;5;124m'\u001b[39m)\n\u001b[1;32m      3\u001b[0m plt\u001b[38;5;241m.\u001b[39myscale(\u001b[38;5;124m'\u001b[39m\u001b[38;5;124mlog\u001b[39m\u001b[38;5;124m'\u001b[39m)\n",
      "\u001b[0;31mIndexError\u001b[0m: index 9999999 is out of bounds for axis 1 with size 523"
     ]
    }
   ],
   "source": [
    "plt.plot(number_densities[:, index]/gas_number_density[:],pressures)\n",
    "plt.xscale('log')\n",
    "plt.yscale('log')"
   ]
  },
  {
   "cell_type": "code",
   "execution_count": null,
   "id": "f83ac3ef",
   "metadata": {},
   "outputs": [],
   "source": []
  },
  {
   "cell_type": "code",
   "execution_count": null,
   "id": "de9ffcdf",
   "metadata": {},
   "outputs": [],
   "source": []
  }
 ],
 "metadata": {
  "kernelspec": {
   "display_name": "Python 3 (ipykernel)",
   "language": "python",
   "name": "python3"
  },
  "language_info": {
   "codemirror_mode": {
    "name": "ipython",
    "version": 3
   },
   "file_extension": ".py",
   "mimetype": "text/x-python",
   "name": "python",
   "nbconvert_exporter": "python",
   "pygments_lexer": "ipython3",
   "version": "3.11.5"
  }
 },
 "nbformat": 4,
 "nbformat_minor": 5
}
