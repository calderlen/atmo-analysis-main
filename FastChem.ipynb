{
 "cells": [
  {
   "cell_type": "code",
   "execution_count": 5,
   "id": "87aef267",
   "metadata": {},
   "outputs": [],
   "source": [
    "import numpy as np\n",
    "import pyfastchem \n",
    "\n",
    "import pyfastchem\n",
    "import numpy as np\n",
    "import os\n",
    "import matplotlib.pyplot as plt\n",
    "from astropy import constants as const\n",
    "\n",
    "\n",
    "#Do the chemistry calculations\n",
    "#this loads the temperatures and pressures produced by petitRADTRANS, you may need to modify these lines if you store these data products somewhere else\n",
    "temperatures = np.load('data_products/radtrans_temperature.npy')\n",
    "pressures = np.load('data_products/radtrans_pressure.npy')"
   ]
  },
  {
   "cell_type": "code",
   "execution_count": 9,
   "id": "334e9272",
   "metadata": {},
   "outputs": [
    {
     "name": "stdout",
     "output_type": "stream",
     "text": [
      "\n",
      "FastChem initialisation summary:\n",
      "  number of species: 575    elements: 80    molecules: 495    condensates: 0\n",
      "\n"
     ]
    }
   ],
   "source": [
    "fastchem = pyfastchem.FastChem('/home/calder/Documents/FastChem/input/element_abundances/asplund_2020_extended.dat', \n",
    "                               '/home/calder/Documents/FastChem/input/logK/logK.dat', \n",
    "                               1)"
   ]
  },
  {
   "cell_type": "markdown",
   "id": "f32bf6be",
   "metadata": {},
   "source": []
  },
  {
   "cell_type": "code",
   "execution_count": 10,
   "id": "231258e1",
   "metadata": {},
   "outputs": [],
   "source": [
    "input_data = pyfastchem.FastChemInput()\n",
    "output_data = pyfastchem.FastChemOutput()"
   ]
  },
  {
   "cell_type": "code",
   "execution_count": 11,
   "id": "7bca4724",
   "metadata": {},
   "outputs": [],
   "source": [
    "input_data.temperature = temperatures\n",
    "input_data.pressure = pressures"
   ]
  },
  {
   "cell_type": "code",
   "execution_count": 12,
   "id": "161a46e6",
   "metadata": {},
   "outputs": [
    {
     "name": "stdout",
     "output_type": "stream",
     "text": [
      "FastChem reports: convergence ok\n"
     ]
    }
   ],
   "source": [
    "fastchem_flag = fastchem.calcDensities(input_data, output_data)\n",
    "print(\"FastChem reports:\", pyfastchem.FASTCHEM_MSG[fastchem_flag])"
   ]
  },
  {
   "cell_type": "code",
   "execution_count": 13,
   "id": "b1a66fdb",
   "metadata": {},
   "outputs": [],
   "source": [
    "number_densities = np.array(output_data.number_densities)\n",
    "gas_number_density = pressures*1e6 / (const.k_B.cgs * temperatures)"
   ]
  },
  {
   "cell_type": "code",
   "execution_count": 14,
   "id": "c39bf185",
   "metadata": {},
   "outputs": [
    {
     "data": {
      "text/plain": [
       "array([[4.28550853e+07, 6.86026457e-02, 3.69056590e+04, ...,\n",
       "        1.95432449e-17, 5.58015721e+02, 2.86384766e-14],\n",
       "       [4.84049050e+07, 9.78044933e-02, 4.65826727e+04, ...,\n",
       "        3.14704330e-17, 7.04225185e+02, 4.61099736e-14],\n",
       "       [5.46914644e+07, 1.39478831e-01, 5.87953306e+04, ...,\n",
       "        5.07088513e-17, 8.88701377e+02, 7.42859851e-14],\n",
       "       ...,\n",
       "       [1.84090386e+11, 5.01392320e+13, 9.76747962e+14, ...,\n",
       "        8.61888279e+03, 1.92518021e-02, 1.64947145e+04],\n",
       "       [2.04607654e+11, 5.36449172e+13, 1.23222241e+15, ...,\n",
       "        1.12634033e+04, 2.22738442e-02, 2.31099119e+04],\n",
       "       [2.27304678e+11, 5.74075335e+13, 1.55439476e+15, ...,\n",
       "        1.46857330e+04, 2.59086572e-02, 3.23536913e+04]])"
      ]
     },
     "execution_count": 14,
     "metadata": {},
     "output_type": "execute_result"
    }
   ],
   "source": [
    "number_densities"
   ]
  },
  {
   "cell_type": "markdown",
   "id": "58de9275",
   "metadata": {},
   "source": []
  },
  {
   "cell_type": "code",
   "execution_count": 15,
   "id": "1a992578",
   "metadata": {},
   "outputs": [],
   "source": [
    "#change the below lines to select which species you want to calculate the volume mixing ratios for\n",
    "# abundance_species_labels = ['CO', 'H2O', 'VO', 'OH', 'CO2', 'CH4', 'C2H2', 'NH3', 'HCN', 'Fe', 'Fe+', 'Cr', 'Si']\n",
    "# abundance_species = ['C1O1', 'H2O1', 'O1V1', 'H1O1', 'C1O2', 'C1H4', 'C2H2', 'H3N1', 'C1H1N1_1', 'Fe', 'Fe1+', 'Cr', 'Si']"
   ]
  },
  {
   "cell_type": "code",
   "execution_count": 34,
   "id": "753734e9",
   "metadata": {},
   "outputs": [],
   "source": [
    "abundance_species = ['Ga', 'Ge', 'Hf', 'In', 'Ir', 'Mn', 'Mo', 'O', 'Os', 'Pb', 'Pd', 'Rh', 'Ru', 'Sc', 'Sc+', 'Sn', 'Sr', 'Cr', 'Ti', 'Mg', 'Ni']\n",
    "abundance_species_labels = ['Ga', 'Ge', 'Hf', 'In', 'Ir', 'Mn', 'Mo', 'O', 'Os', 'Pb', 'Pd', 'Rh', 'Ru', 'Sc', 'Sc+', 'Sn', 'Sr', 'Cr', 'Ti', 'Mg', 'Ni']\n"
   ]
  },
  {
   "cell_type": "code",
   "execution_count": 35,
   "id": "292be3f7",
   "metadata": {},
   "outputs": [],
   "source": [
    "#set the quench pressure to 1 bar\n",
    "quench = np.argmin(np.abs(pressures-1e1))"
   ]
  },
  {
   "cell_type": "code",
   "execution_count": 36,
   "id": "6908a9fa",
   "metadata": {},
   "outputs": [],
   "source": [
    "a_index = []\n",
    "abundance_species_indices, abundance_species_masses_ordered = [], []\n",
    "n_species = fastchem.getElementNumber()"
   ]
  },
  {
   "cell_type": "code",
   "execution_count": 37,
   "id": "131678bb",
   "metadata": {},
   "outputs": [
    {
     "name": "stdout",
     "output_type": "stream",
     "text": [
      "The VMR for  Mg  is  6.081422083824978e-05 erg / K\n"
     ]
    }
   ],
   "source": [
    "for i, species in enumerate(abundance_species):\n",
    "        index = fastchem.getGasSpeciesIndex(species)\n",
    "if index != pyfastchem.FASTCHEM_UNKNOWN_SPECIES:\n",
    "    abundance_species_indices.append(index) \n",
    "    #abundance_species_masses_ordered.append(fastchem.getSpeciesMolecularWeight(index))\n",
    "    this_species = number_densities[quench, index]/gas_number_density[quench]\n",
    "    print(\"The VMR for \",species,' is ', this_species)\n",
    "else:\n",
    "    print(\"Species\", species, \"to plot not found in FastChem\")"
   ]
  },
  {
   "cell_type": "code",
   "execution_count": 33,
   "id": "e0235737",
   "metadata": {},
   "outputs": [
    {
     "name": "stdout",
     "output_type": "stream",
     "text": [
      "Help on method getGasSpeciesIndex in module pyfastchem:\n",
      "\n",
      "getGasSpeciesIndex(...) method of pyfastchem.FastChem instance\n",
      "    getGasSpeciesIndex(self: pyfastchem.FastChem, arg0: str) -> int\n",
      "\n"
     ]
    }
   ],
   "source": [
    "help(fastchem.getGasSpeciesIndex)"
   ]
  },
  {
   "cell_type": "markdown",
   "id": "8dbc2af8",
   "metadata": {},
   "source": []
  },
  {
   "cell_type": "markdown",
   "id": "c311a76a",
   "metadata": {},
   "source": []
  },
  {
   "cell_type": "code",
   "execution_count": 42,
   "id": "d86988de",
   "metadata": {},
   "outputs": [
    {
     "ename": "IndexError",
     "evalue": "too many indices for array: array is 1-dimensional, but 2 were indexed",
     "output_type": "error",
     "traceback": [
      "\u001b[0;31m---------------------------------------------------------------------------\u001b[0m",
      "\u001b[0;31mIndexError\u001b[0m                                Traceback (most recent call last)",
      "Cell \u001b[0;32mIn[42], line 7\u001b[0m\n\u001b[1;32m      3\u001b[0m plot_species_labels \u001b[38;5;241m=\u001b[39m [\u001b[38;5;124m'\u001b[39m\u001b[38;5;124mFe I\u001b[39m\u001b[38;5;124m'\u001b[39m, \u001b[38;5;124m'\u001b[39m\u001b[38;5;124mFe II\u001b[39m\u001b[38;5;124m'\u001b[39m, \u001b[38;5;124m'\u001b[39m\u001b[38;5;124mNa I\u001b[39m\u001b[38;5;124m'\u001b[39m, \u001b[38;5;124m'\u001b[39m\u001b[38;5;124mNi I\u001b[39m\u001b[38;5;124m'\u001b[39m, \u001b[38;5;124m'\u001b[39m\u001b[38;5;124mCa I\u001b[39m\u001b[38;5;124m'\u001b[39m, \u001b[38;5;124m'\u001b[39m\u001b[38;5;124mCo I\u001b[39m\u001b[38;5;124m'\u001b[39m, \u001b[38;5;124m'\u001b[39m\u001b[38;5;124mV I\u001b[39m\u001b[38;5;124m'\u001b[39m]\n\u001b[1;32m      4\u001b[0m plot_species_cond \u001b[38;5;241m=\u001b[39m [\u001b[38;5;124m'\u001b[39m\u001b[38;5;124mFe(s,l)\u001b[39m\u001b[38;5;124m'\u001b[39m, \u001b[38;5;124m'\u001b[39m\u001b[38;5;124mFe+(s,l)\u001b[39m\u001b[38;5;124m'\u001b[39m, \u001b[38;5;124m'\u001b[39m\u001b[38;5;124mNa(s,l)\u001b[39m\u001b[38;5;124m'\u001b[39m, \u001b[38;5;124m'\u001b[39m\u001b[38;5;124mNi(s,l)\u001b[39m\u001b[38;5;124m'\u001b[39m, \u001b[38;5;124m'\u001b[39m\u001b[38;5;124mCa(s,l)\u001b[39m\u001b[38;5;124m'\u001b[39m, \u001b[38;5;124m'\u001b[39m\u001b[38;5;124mCo(s,l)\u001b[39m\u001b[38;5;124m'\u001b[39m]\n\u001b[0;32m----> 7\u001b[0m plt\u001b[38;5;241m.\u001b[39mplot(\u001b[43mnumber_densities\u001b[49m\u001b[43m[\u001b[49m\u001b[43m:\u001b[49m\u001b[43m,\u001b[49m\u001b[43m \u001b[49m\u001b[43mindex\u001b[49m\u001b[43m]\u001b[49m\u001b[38;5;241m/\u001b[39mgas_number_density[:],pressures)\n\u001b[1;32m      8\u001b[0m plt\u001b[38;5;241m.\u001b[39mxscale(\u001b[38;5;124m'\u001b[39m\u001b[38;5;124mlog\u001b[39m\u001b[38;5;124m'\u001b[39m)\n\u001b[1;32m      9\u001b[0m plt\u001b[38;5;241m.\u001b[39myscale(\u001b[38;5;124m'\u001b[39m\u001b[38;5;124mlog\u001b[39m\u001b[38;5;124m'\u001b[39m)\n",
      "\u001b[0;31mIndexError\u001b[0m: too many indices for array: array is 1-dimensional, but 2 were indexed"
     ]
    }
   ],
   "source": [
    "plot_species = ['Fe', 'Fe+', 'Na', 'Ni', 'Ca', 'Co', 'V I']\n",
    "#for the plot labels, we therefore use separate strings in the usual notation\n",
    "plot_species_labels = ['Fe I', 'Fe II', 'Na I', 'Ni I', 'Ca I', 'Co I', 'V I']\n",
    "plot_species_cond = ['Fe(s,l)', 'Fe+(s,l)', 'Na(s,l)', 'Ni(s,l)', 'Ca(s,l)', 'Co(s,l)']\n",
    "\n",
    "\n",
    "plt.plot(number_densities[:, index]/gas_number_density[:],pressures)\n",
    "plt.xscale('log')\n",
    "plt.yscale('log')"
   ]
  },
  {
   "cell_type": "code",
   "execution_count": null,
   "id": "f83ac3ef",
   "metadata": {},
   "outputs": [],
   "source": []
  },
  {
   "cell_type": "code",
   "execution_count": null,
   "id": "de9ffcdf",
   "metadata": {},
   "outputs": [],
   "source": []
  },
  {
   "cell_type": "code",
   "execution_count": null,
   "id": "ec393e2c",
   "metadata": {},
   "outputs": [],
   "source": []
  }
 ],
 "metadata": {
  "kernelspec": {
   "display_name": "Python 3 (ipykernel)",
   "language": "python",
   "name": "python3"
  },
  "language_info": {
   "codemirror_mode": {
    "name": "ipython",
    "version": 3
   },
   "file_extension": ".py",
   "mimetype": "text/x-python",
   "name": "python",
   "nbconvert_exporter": "python",
   "pygments_lexer": "ipython3",
   "version": "3.11.4"
  }
 },
 "nbformat": 4,
 "nbformat_minor": 5
}
