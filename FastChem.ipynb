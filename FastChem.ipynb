{
 "cells": [
  {
   "cell_type": "code",
   "execution_count": 1,
   "id": "87aef267",
   "metadata": {},
   "outputs": [],
   "source": [
    "import numpy as np\n",
    "import pyfastchem \n",
    "\n",
    "import pyfastchem\n",
    "import numpy as np\n",
    "import os\n",
    "import matplotlib.pyplot as plt\n",
    "from astropy import constants as const\n",
    "\n",
    "\n",
    "#Do the chemistry calculations\n",
    "#this loads the temperatures and pressures produced by petitRADTRANS, you may need to modify these lines if you store these data products somewhere else\n",
    "temperatures = np.load('data_products/radtrans_temperature.npy')\n",
    "pressures = np.load('data_products/radtrans_pressure.npy')"
   ]
  },
  {
   "cell_type": "code",
   "execution_count": 3,
   "id": "334e9272",
   "metadata": {},
   "outputs": [
    {
     "name": "stdout",
     "output_type": "stream",
     "text": [
      "\n",
      "FastChem initialisation summary:\n",
      "  number of species: 575    elements: 80    molecules: 495    condensates: 0\n",
      "\n"
     ]
    }
   ],
   "source": [
    "fastchem = pyfastchem.FastChem('/Users/calder/Documents/FastChem/input/element_abundances/asplund_2020_extended.dat', \n",
    "                               '/Users/calder/Documents/FastChem/input/logK/logK.dat', \n",
    "                               1)"
   ]
  },
  {
   "cell_type": "markdown",
   "id": "f32bf6be",
   "metadata": {},
   "source": []
  },
  {
   "cell_type": "code",
   "execution_count": 4,
   "id": "231258e1",
   "metadata": {},
   "outputs": [],
   "source": [
    "input_data = pyfastchem.FastChemInput()\n",
    "output_data = pyfastchem.FastChemOutput()"
   ]
  },
  {
   "cell_type": "code",
   "execution_count": 5,
   "id": "7bca4724",
   "metadata": {},
   "outputs": [],
   "source": [
    "input_data.temperature = temperatures\n",
    "input_data.pressure = pressures"
   ]
  },
  {
   "cell_type": "code",
   "execution_count": 6,
   "id": "161a46e6",
   "metadata": {},
   "outputs": [
    {
     "name": "stdout",
     "output_type": "stream",
     "text": [
      "FastChem reports: convergence ok\n"
     ]
    }
   ],
   "source": [
    "fastchem_flag = fastchem.calcDensities(input_data, output_data)\n",
    "print(\"FastChem reports:\", pyfastchem.FASTCHEM_MSG[fastchem_flag])"
   ]
  },
  {
   "cell_type": "code",
   "execution_count": 7,
   "id": "b1a66fdb",
   "metadata": {},
   "outputs": [],
   "source": [
    "number_densities = np.array(output_data.number_densities)\n",
    "gas_number_density = pressures*1e6 / (const.k_B.cgs * temperatures)"
   ]
  },
  {
   "cell_type": "code",
   "execution_count": 8,
   "id": "c39bf185",
   "metadata": {},
   "outputs": [
    {
     "data": {
      "text/plain": [
       "array([[4.28550855e+07, 6.86026520e-02, 3.69056590e+04, ...,\n",
       "        1.95432485e-17, 5.58015721e+02, 2.86384818e-14],\n",
       "       [4.84049053e+07, 9.78045046e-02, 4.65826727e+04, ...,\n",
       "        3.14704402e-17, 7.04225185e+02, 4.61099841e-14],\n",
       "       [5.46914648e+07, 1.39478851e-01, 5.87953306e+04, ...,\n",
       "        5.07088659e-17, 8.88701377e+02, 7.42860065e-14],\n",
       "       ...,\n",
       "       [1.84090384e+11, 5.01392123e+13, 9.76747963e+14, ...,\n",
       "        8.61887943e+03, 1.92518007e-02, 1.64947157e+04],\n",
       "       [2.04607649e+11, 5.36448835e+13, 1.23222241e+15, ...,\n",
       "        1.12633961e+04, 2.22738416e-02, 2.31099146e+04],\n",
       "       [2.27304674e+11, 5.74075087e+13, 1.55439476e+15, ...,\n",
       "        1.46857265e+04, 2.59086549e-02, 3.23536941e+04]])"
      ]
     },
     "execution_count": 8,
     "metadata": {},
     "output_type": "execute_result"
    }
   ],
   "source": [
    "number_densities"
   ]
  },
  {
   "cell_type": "markdown",
   "id": "58de9275",
   "metadata": {},
   "source": []
  },
  {
   "cell_type": "code",
   "execution_count": 9,
   "id": "1a992578",
   "metadata": {},
   "outputs": [],
   "source": [
    "#change the below lines to select which species you want to calculate the volume mixing ratios for\n",
    "# abundance_species_labels = ['CO', 'H2O', 'VO', 'OH', 'CO2', 'CH4', 'C2H2', 'NH3', 'HCN', 'Fe', 'Fe+', 'Cr', 'Si']\n",
    "# abundance_species = ['C1O1', 'H2O1', 'O1V1', 'H1O1', 'C1O2', 'C1H4', 'C2H2', 'H3N1', 'C1H1N1_1', 'Fe', 'Fe1+', 'Cr', 'Si']"
   ]
  },
  {
   "cell_type": "code",
   "execution_count": 20,
   "id": "753734e9",
   "metadata": {},
   "outputs": [],
   "source": [
    "abundance_species = ['Mg', 'Fe', 'Na', 'Co', 'Cr', 'Zn', 'Cu', 'Ca', 'Ti', 'Sc', 'Ru']\n",
    "abundance_species_labels = ['Mg', 'Fe', 'Na', 'Co', 'Cr', 'Zn', 'Cu', 'Ca', 'Ti', 'Sc', 'Ru']\n"
   ]
  },
  {
   "cell_type": "code",
   "execution_count": 21,
   "id": "292be3f7",
   "metadata": {},
   "outputs": [],
   "source": [
    "#set the quench pressure to 1 bar\n",
    "quench = np.argmin(np.abs(pressures-1e1))"
   ]
  },
  {
   "cell_type": "code",
   "execution_count": 22,
   "id": "6908a9fa",
   "metadata": {},
   "outputs": [],
   "source": [
    "a_index = []\n",
    "abundance_species_indices, abundance_species_masses_ordered = [], []\n",
    "n_species = fastchem.getElementNumber()"
   ]
  },
  {
   "cell_type": "code",
   "execution_count": 33,
   "id": "131678bb",
   "metadata": {},
   "outputs": [
    {
     "name": "stdout",
     "output_type": "stream",
     "text": [
      "The VMR for  Ca  is  2.458715557115268e-06 erg / K\n",
      "The VMR for  Fe  is  4.946571802607676e-05 erg / K\n"
     ]
    }
   ],
   "source": [
    "for i, species in enumerate(abundance_species):\n",
    "    index = fastchem.getGasSpeciesIndex(species)\n",
    "    if index != pyfastchem.FASTCHEM_UNKNOWN_SPECIES:\n",
    "        abundance_species_indices.append(index) \n",
    "        #abundance_species_masses_ordered.append(fastchem.getSpeciesMolecularWeight(index))\n",
    "        this_species = number_densities[quench, index]/gas_number_density[quench]\n",
    "        print(\"The VMR for \",species,' is ', this_species)\n",
    "    else:\n",
    "        print(\"Species\", species, \"to plot not found in FastChem\")"
   ]
  },
  {
   "cell_type": "code",
   "execution_count": 34,
   "id": "e0235737",
   "metadata": {},
   "outputs": [
    {
     "name": "stdout",
     "output_type": "stream",
     "text": [
      "Help on method getGasSpeciesIndex in module pyfastchem:\n",
      "\n",
      "getGasSpeciesIndex(...) method of pyfastchem.FastChem instance\n",
      "    getGasSpeciesIndex(self: pyfastchem.FastChem, arg0: str) -> int\n",
      "\n"
     ]
    }
   ],
   "source": [
    "help(fastchem.getGasSpeciesIndex)"
   ]
  },
  {
   "cell_type": "code",
   "execution_count": 37,
   "id": "d86988de",
   "metadata": {},
   "outputs": [
    {
     "data": {
      "image/png": "[encoded data removed]",
      "text/plain": [
       "<Figure size 640x480 with 1 Axes>"
      ]
     },
     "metadata": {},
     "output_type": "display_data"
    }
   ],
   "source": [
    "plot_species = ['Fe', 'Fe+', 'Na', 'Ni', 'Ca', 'Co', 'V I']\n",
    "#for the plot labels, we therefore use separate strings in the usual notation\n",
    "plot_species_labels = ['Fe I', 'Fe II', 'Na I', 'Ni I', 'Ca I', 'Co I', 'V I']\n",
    "plot_species_cond = ['Fe(s,l)', 'Fe+(s,l)', 'Na(s,l)', 'Ni(s,l)', 'Ca(s,l)', 'Co(s,l)']\n",
    "\n",
    "\n",
    "plt.plot(number_densities[:, index]/gas_number_density[:],pressures)\n",
    "plt.xscale('log')\n",
    "plt.yscale('log')"
   ]
  },
  {
   "cell_type": "code",
   "execution_count": null,
   "id": "f83ac3ef",
   "metadata": {},
   "outputs": [],
   "source": []
  },
  {
   "cell_type": "code",
   "execution_count": null,
   "id": "de9ffcdf",
   "metadata": {},
   "outputs": [],
   "source": []
  },
  {
   "cell_type": "code",
   "execution_count": null,
   "id": "ec393e2c",
   "metadata": {},
   "outputs": [],
   "source": []
  }
 ],
 "metadata": {
  "kernelspec": {
   "display_name": "Python 3 (ipykernel)",
   "language": "python",
   "name": "python3"
  },
  "language_info": {
   "codemirror_mode": {
    "name": "ipython",
    "version": 3
   },
   "file_extension": ".py",
   "mimetype": "text/x-python",
   "name": "python",
   "nbconvert_exporter": "python",
   "pygments_lexer": "ipython3",
   "version": "3.11.8"
  }
 },
 "nbformat": 4,
 "nbformat_minor": 5
}
